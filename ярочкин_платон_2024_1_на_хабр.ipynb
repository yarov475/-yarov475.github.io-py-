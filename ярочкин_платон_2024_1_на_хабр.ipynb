{
  "nbformat": 4,
  "nbformat_minor": 0,
  "metadata": {
    "colab": {
      "provenance": [],
      "authorship_tag": "ABX9TyOPSOQgAsqmGzgBSgSr0BV/",
      "include_colab_link": true
    },
    "kernelspec": {
      "name": "python3",
      "display_name": "Python 3"
    },
    "language_info": {
      "name": "python"
    }
  },
  "cells": [
    {
      "cell_type": "markdown",
      "metadata": {
        "id": "view-in-github",
        "colab_type": "text"
      },
      "source": [
        "<a href=\"https://colab.research.google.com/github/yarov475/-yarov475.github.io-py-/blob/master/%D1%8F%D1%80%D0%BE%D1%87%D0%BA%D0%B8%D0%BD_%D0%BF%D0%BB%D0%B0%D1%82%D0%BE%D0%BD_2024_1_%D0%BD%D0%B0_%D1%85%D0%B0%D0%B1%D1%80.ipynb\" target=\"_parent\"><img src=\"https://colab.research.google.com/assets/colab-badge.svg\" alt=\"Open In Colab\"/></a>"
      ]
    },
    {
      "cell_type": "code",
      "execution_count": null,
      "metadata": {
        "id": "71VnsWXISiMp"
      },
      "outputs": [],
      "source": []
    },
    {
      "cell_type": "markdown",
      "source": [
        "При написании этого кода мы вдохновлялись статьей https://sysblok.ru/courses/kak-doobuchit-jazykovuju-model-pisat-v-stile-dostoevskogo/\n",
        "мы дополнили и преработали код.\n",
        "\n",
        "данный проект состоит из 3 этапов:\n",
        "1. Подготовка данных\n",
        "2. дообучение модели на данных\n",
        "3. публикация модели на hugging face\n",
        "4. создание приложения, которое использует модель как api.\n",
        "\n",
        "\n",
        "  \n"
      ],
      "metadata": {
        "id": "d6F5HS7uSto0"
      }
    },
    {
      "cell_type": "markdown",
      "source": [],
      "metadata": {
        "id": "UbRUAz9VhIJG"
      }
    },
    {
      "cell_type": "markdown",
      "source": [
        "1. подготовка данных.\n",
        "\n",
        "  1.1. Покупаем полное собрание сочинение Платона в формате pdf\n",
        "\n",
        "  2.2. переводим pdf в txt\n",
        "  2.3. проверочный текст мы нашли в формате txt на сайте одной из библиотек. Будем надеяться, что Платон не против. Книги он все равно не любил."
      ],
      "metadata": {
        "id": "SQzIBz9oUOH0"
      }
    },
    {
      "cell_type": "code",
      "source": [
        "# Этот код предназначен для извлечения текста из всех PDF-файлов в указанной папке и сохранения их в один текстовый файл. Чтобы использовать его, выполните следующие шаги:\n",
        "# Убедитесь, что у вас установлены библиотеки PyPDF2 и os.\n",
        "# Измените переменную folder_path на путь к вашей папке с PDF-файлами.\n",
        "# Запустите скрипт. Все тексты из PDF будут объединены и сохранены в файл corpus.txt.\n",
        "# этот код я запускал на локальной машине.\n",
        "\n",
        "import os  # Импортируем модуль os для работы с файловой системой\n",
        "import PyPDF2  # Импортируем библиотеку PyPDF2 для работы с PDF-файлами\n",
        "\n",
        "\n",
        "def pdf_to_text(pdf_path):\n",
        "    \"\"\"Извлекает текст из одного PDF файла.\"\"\"\n",
        "    text = ''  # Инициализируем пустую строку для хранения текста\n",
        "    with open(pdf_path, 'rb') as pdf_file:  # Открываем PDF файл в бинарном режиме\n",
        "        pdf_reader = PyPDF2.PdfReader(pdf_file)  # Создаем объект PdfReader для чтения файла\n",
        "        for page_num in range(len(pdf_reader.pages)):  # Проходим по всем страницам PDF\n",
        "            page = pdf_reader.pages[page_num]  # Получаем текущую страницу\n",
        "            text += page.extract_text() or ''  # Извлекаем текст; если не удалось, добавляем пустую строку\n",
        "    return text  # Возвращаем извлеченный текст\n",
        "\n",
        "\n",
        "def convert_all_pdfs_in_folder(folder_path, output_txt):\n",
        "    \"\"\"Конвертирует все PDF файлы в указанной папке в один текстовый файл.\"\"\"\n",
        "    all_text = ''  # Инициализируем пустую строку для хранения текста всех PDF\n",
        "\n",
        "    # Перебираем все файлы в указанной папке\n",
        "    for filename in os.listdir(folder_path):  # Получаем список файлов в папке\n",
        "        if filename.endswith('.pdf'):  # Проверяем, является ли файл PDF\n",
        "            pdf_path = os.path.join(folder_path, filename)  # Формируем полный путь к файлу\n",
        "            print(f'Converting {pdf_path}...')  # Выводим сообщение о начале конвертации\n",
        "            all_text += pdf_to_text(pdf_path) + '\\n'  # Добавляем извлеченный текст и перевод строки\n",
        "\n",
        "    # Записываем объединенный текст в выходной файл\n",
        "    with open(output_txt, 'w', encoding='utf-8') as txt_file:  # Открываем выходной файл в режиме записи\n",
        "        txt_file.write(all_text)  # Записываем весь текст в файл\n",
        "\n",
        "\n",
        "if __name__ == \"__main__\":  # Проверяем, запущен ли скрипт напрямую\n",
        "    folder_path = 'pdf'  # Задаем путь к папке с PDF файлами (измените при необходимости)\n",
        "    output_txt = 'corpus.txt'  # Задаем имя выходного текстового файла\n",
        "\n",
        "    convert_all_pdfs_in_folder(folder_path, output_txt)  # Вызываем функцию конвертации\n",
        "    print(\"All PDFs converted to corpus.txt successfully!\")  # Выводим сообщение об успешном завершении"
      ],
      "metadata": {
        "id": "f623YAToUuEE"
      },
      "execution_count": null,
      "outputs": []
    },
    {
      "cell_type": "markdown",
      "source": [
        "2. дообучение модели на данных, полученных на этапе 1."
      ],
      "metadata": {
        "id": "9zCvXjMOWr9e"
      }
    },
    {
      "cell_type": "code",
      "source": [
        "# Первая команда (!pip uninstall transformers):\n",
        "# Удаляет библиотеку transformers из вашей среды Python. Это может быть полезно, если вы хотите избавиться от устаревшей версии или исправить проблемы с установкой.\n",
        "# Вторая команда (pip install git+https://github.com/huggingface/transformers):\n",
        "# Устанавливает последнюю версию библиотеки transformers непосредственно из репозитория на GitHub. Это позволяет получить доступ к самым новым функциям и исправлениям, которые еще не были выпущены в стабильной версии.\n",
        "\n",
        "\n",
        "!pip uninstall transformers  # Удаляем установленную библиотеку transformers\n",
        "pip install git+https://github.com/huggingface/transformers  # Устанавливаем библиотеку transformers из репозитория GitHub"
      ],
      "metadata": {
        "id": "SV79OzuCWFXA"
      },
      "execution_count": null,
      "outputs": []
    },
    {
      "cell_type": "code",
      "source": [
        "#  %%bash   -  специальная команда, используемая в средах, поддерживающих магические команды, таких как Jupyter Notebook. Она указывает, что все последующие строки кода должны выполняться в оболочке Bash.\n",
        "%%bash\n",
        "git clone https://github.com/huggingface/transformers  # Клонируем репозиторий transformers с GitHub\n",
        "cd transformers  # Переходим в директорию клонированного репозитория\n",
        "pip install .  # Устанавливаем библиотеку из текущей директории"
      ],
      "metadata": {
        "id": "z48-fB9LXl90"
      },
      "execution_count": null,
      "outputs": []
    },
    {
      "cell_type": "code",
      "source": [
        "# Создадим папку, где будет храниться наша будущая модель\n",
        "!mkdir models/\n",
        "# Скачаем ruGPT3 и скрипт обучения\n",
        "!wget https://raw.githubusercontent.com/sberbank-ai/ru-gpts/master/pretrain_transformers.py  # Скачиваем скрипт для предобучения модели\n",
        "!wget https://raw.githubusercontent.com/sberbank-ai/ru-gpts/master/generate_transformers.py  # Скачиваем скрипт для генерации текста\n",
        "!wget https://raw.githubusercontent.com/huggingface/transformers/main/examples/pytorch/language-modeling/run_clm.py  # Скачиваем скрипт для обучения языковой модели"
      ],
      "metadata": {
        "id": "kjqeoK2hYfWr"
      },
      "execution_count": null,
      "outputs": []
    },
    {
      "cell_type": "code",
      "source": [
        "# установка различных библиотек NVIDIA для работы с CUDA,\n",
        "# включая библиотеки для линейной алгебры, управления памятью и выполнения параллельных вычислений,\n",
        "# что позволяет эффективно использовать графические процессоры (GPU) для вычислений в Python.\n",
        "\n",
        "!pip install nvidia-cublas-cu12==12.1.3.1\n",
        "!pip install nvidia-cuda-cupti-cu12==12.1.105\n",
        "!pip install nvidia-cuda-nvrtc-cu12==12.1.105\n",
        "!pip install nvidia-cuda-runtime-cu12==12.1.105\n",
        "!pip install nvidia-cudnn-cu12==8.9.2.26\n",
        "!pip install nvidia-cufft-cu12==11.0.2.54\n",
        "!pip install nvidia-curand-cu12==10.3.2.106\n",
        "!pip install nvidia-cusolver-cu12==11.4.5.107\n",
        "!pip install nvidia-cusparse-cu12==12.1.0.106\n",
        "!pip install nvidia-nccl-cu12==2.20.5\n",
        "!pip install nvidia-nvtx-cu12==12.1.105"
      ],
      "metadata": {
        "id": "dsRQEqfpY2qR"
      },
      "execution_count": null,
      "outputs": []
    },
    {
      "cell_type": "code",
      "source": [
        "# становка библиотек datasets и evaluate, которые используются для работы\n",
        "#  с наборами данных и оценки моделей машинного обучения в экосистеме Hugging Face.\n",
        "\n",
        "!pip3 install datasets\n",
        "!pip3 install evaluate"
      ],
      "metadata": {
        "id": "ZA8LmyAmZG6z"
      },
      "execution_count": null,
      "outputs": []
    },
    {
      "cell_type": "code",
      "source": [
        "# скачивание двух текстовых файлов: corpus.txt и validation_corpus.txt из репозитория на GitHub см  этап 1 подготовка данных.\n",
        "\n",
        "!wget https://raw.githubusercontent.com/yarov475/dosocratik/master/corpus.txt\n",
        "!wget https://raw.githubusercontent.com/yarov475/dosocratik/master/validation_corpus.txt"
      ],
      "metadata": {
        "id": "b_XPOWBxZewB"
      },
      "execution_count": null,
      "outputs": []
    },
    {
      "cell_type": "code",
      "source": [
        "# Этот код запускает процесс обучения языковой модели с использованием скрипта run_clm.py,\n",
        "# задавая различные параметры, такие как путь к предобученной модели, файлы с данными, настройки обучения и оптимизации,\n",
        "#  а также параметры сохранения результатов.\n",
        "\n",
        "!python run_clm.py \\  # Запускаем скрипт run_clm.py для обучения языковой модели\n",
        "   --model_name_or_path sberbank-ai/rugpt3small_based_on_gpt2 \\  # Указываем путь к предобученной модели ruGPT3 small на основе GPT-2\n",
        "   --train_file corpus.txt \\  # Указываем файл с данными для обучения (corpus.txt)\n",
        "   --validation_file validation_corpus.txt \\  # Указываем файл с данными для валидации (validation_corpus.txt)\n",
        "   --per_device_train_batch_size 2 \\  # Устанавливаем размер батча для обучения на каждом устройстве (GPU) равным 2\n",
        "   --block_size 2048 \\  # Устанавливаем размер блока текста для обработки равным 2048 токенам\n",
        "   --dataset_config_name plain_text \\  # Указываем конфигурацию набора данных как простой текст\n",
        "   --do_train \\  # Указываем, что необходимо выполнить обучение модели\n",
        "   --gradient_accumulation_steps 4 \\  # Устанавливаем количество шагов накопления градиентов равным 4\n",
        "   --gradient_checkpointing True \\  # Включаем контроль градиентов для экономии памяти\n",
        "   --fp16 True \\  # Включаем использование половинной точности (FP16) для ускорения обучения и снижения потребления памяти\n",
        "   --optim adafactor \\  # Устанавливаем оптимизатор AdaFactor для обучения модели\n",
        "   --num_train_epochs 10 \\  # Устанавливаем количество эпох обучения равным 10\n",
        "   --output_dir models/essays \\  # Указываем директорию для сохранения обученной модели и результатов\n",
        "   --overwrite_output_dir \\  # Разрешаем перезапись содержимого выходной директории, если она уже существует\n",
        "   --evaluation_strategy steps  # Устанавливаем стратегию оценки модели на основе количества шагов"
      ],
      "metadata": {
        "id": "xqoF16XiZy4Q"
      },
      "execution_count": null,
      "outputs": []
    },
    {
      "cell_type": "markdown",
      "source": [
        "3. Публикация модели"
      ],
      "metadata": {
        "id": "uGqWoS5LbO7A"
      }
    },
    {
      "cell_type": "code",
      "source": [
        "# Команда !pip install huggingface_hub устанавливает библиотеку huggingface_hub, которая позволяет взаимодействовать с платформой\n",
        "#  Hugging Face для загрузки и публикации моделей, наборов данных и других ресурсов, обеспечивая удобный доступ к инструментам и\n",
        "#  функционалу для работы с моделями машинного обучения.\n",
        "\n",
        "!pip install huggingface_hub"
      ],
      "metadata": {
        "id": "ZJVtGfgVaYtn"
      },
      "execution_count": null,
      "outputs": []
    },
    {
      "cell_type": "code",
      "source": [
        "from huggingface_hub import login  # Импортируем функцию login из библиотеки huggingface_hub\n",
        "login(token='hf_токен_которй_вы_создали_в_личном_кабинете_на_hugging_face')  # Выполняем вход в Hugging Face с использованием указанного токена"
      ],
      "metadata": {
        "id": "lH7m1sDBar7V"
      },
      "execution_count": null,
      "outputs": []
    },
    {
      "cell_type": "code",
      "source": [
        "\n",
        "\n",
        "\n",
        "\n",
        "from huggingface_hub import HfApi  # Импортируем класс HfApi из библиотеки huggingface_hub для работы с API Hugging Face\n",
        "\n",
        "api = HfApi()  # Создаем экземпляр класса HfApi для взаимодействия с Hugging Face Hub\n",
        "api.upload_folder(  # Вызываем метод upload_folder для загрузки содержимого папки на Hugging Face Hub\n",
        "    folder_path='models/essays',  # Указываем путь к директории с моделью, которую нужно загрузить\n",
        "    repo_id='DmitryYarov/plato_2024_1.0',  # Указываем идентификатор репозитория, включая имя пользователя и название модели.\n",
        "                                           # В моем случае название \"DmitryYarov/plato_2024_1.0\" в таком виде она появиться на hugging face. d Dfitv <логин>/<название модели>\n",
        "    repo_type='model'  # Указываем тип репозитория как 'model'\n",
        ")\n",
        "\n",
        "теперь модель опубликована на https://huggingface.co/DmitryYarov/plato_2024_1.0 ее можно качать, использовать как api, ставить лайки"
      ],
      "metadata": {
        "id": "E4N5uHT1bI9F"
      },
      "execution_count": null,
      "outputs": []
    },
    {
      "cell_type": "markdown",
      "source": [
        "Это описание модели на сайте hugging face\n",
        "\n",
        "# essays\n",
        "This model is a fine-tuned version of [sberbank-ai/rugpt3small_based_on_gpt2](https://huggingface.co/sberbank-ai/rugpt3small_based_on_gpt2) on a plato_full_russ dataset\n",
        "It achieves the following results on the evaluation set:\n",
        "- Loss: 3.1957\n",
        "- Accuracy: 0.3682\n",
        "\n",
        "## Training procedure\n",
        "\n",
        "### Training hyperparameters\n",
        "\n",
        "The following hyperparameters were used during training:\n",
        "- learning_rate: 5e-05\n",
        "- train_batch_size: 2\n",
        "- eval_batch_size: 8\n",
        "- seed: 42\n",
        "- gradient_accumulation_steps: 4\n",
        "- total_train_batch_size: 8\n",
        "- optimizer: Use adafactor and the args are:\n",
        "No additional optimizer arguments\n",
        "- lr_scheduler_type: linear\n",
        "- num_epochs: 10.0\n",
        "- mixed_precision_training: Native AMP\n",
        "\n",
        "### Training results\n",
        "\n",
        "| Training Loss | Epoch  | Step | Validation Loss | Accuracy |\n",
        "|:-------------:|:------:|:----:|:---------------:|:--------:|\n",
        "| 2.7233        | 7.6046 | 500  | 3.1864          | 0.3682   |\n",
        "\n",
        "\n",
        "### Framework versions\n",
        "\n",
        "- Transformers 4.46.0.dev0\n",
        "- Pytorch 2.4.1+cu121\n",
        "- Datasets 3.0.1\n",
        "- Tokenizers 0.20.1\n"
      ],
      "metadata": {
        "id": "6XUcMP7lgYO8"
      }
    },
    {
      "cell_type": "markdown",
      "source": [
        "4. создание приложения, которое использует модель как api."
      ],
      "metadata": {
        "id": "mpEnNae5hKrn"
      }
    },
    {
      "cell_type": "code",
      "source": [
        "\n",
        "# этот код я запустил на локальной машине. Убедитесь, что установлены: transformers\n",
        "\n",
        "\n",
        "import tkinter as tk  # Импортируем библиотеку tkinter для создания графического интерфейса\n",
        "from tkinter import scrolledtext  # Импортируем компонент прокручиваемого текста из tkinter\n",
        "from transformers import pipeline  # Импортируем функцию pipeline из библиотеки transformers для работы с моделями\n",
        "\n",
        "# Загрузка модели из Hugging Face Hub\n",
        "model_name = \"DmitryYarov/plato_2024_1.0\"  # Указываем идентификатор модели (замените на свой)\n",
        "pipe = pipeline(\"text-generation\", model=model_name)  # Создаем пайплайн для генерации текста с использованием указанной модели\n",
        "\n",
        "def generate_text():  # Определяем функцию для генерации текста\n",
        "    prompt = prompt_entry.get(\"1.0\", tk.END).strip()  # Получаем ввод пользователя из текстового поля\n",
        "    if prompt:  # Проверяем, что ввод не пустой\n",
        "        # Генерируем текст с помощью модели\n",
        "        output = pipe(\n",
        "            prompt,\n",
        "            repetition_penalty=2.0,  # Устанавливаем штраф за повторения\n",
        "            no_repeat_ngram_size=2,  # Запрещаем повторение биграмм\n",
        "            max_length=200,  # Максимальная длина генерируемого текста\n",
        "            num_return_sequences=3,  # Количество генерируемых последовательностей\n",
        "            num_beams=5,  # Число лучей для поиска (beam search)\n",
        "            do_sample=True,  # Включаем выборку для генерации\n",
        "            temperature=0.7,  # Температура для случайности в генерации\n",
        "            top_k=50,  # Ограничиваем выборку до топ-K вероятностей\n",
        "            top_p=0.95,  # Ограничиваем выборку до топ-P вероятностей (nucleus sampling)\n",
        "            truncation=True  # Обрезаем текст, если он превышает максимальную длину\n",
        "        )\n",
        "        # Очищаем предыдущий вывод\n",
        "        output_text.delete(1.0, tk.END)\n",
        "        # Отображаем сгенерированные тексты\n",
        "        for i, response in enumerate(output):  # Перебираем все сгенерированные ответы\n",
        "            output_text.insert(tk.END, f\"Response {i+1}: {response['generated_text']}\\n\\n\")  # Вставляем ответ в текстовое поле\n",
        "\n",
        "# Создаем главное окно приложения\n",
        "app = tk.Tk()\n",
        "app.title(\"Philosophical Text Generator\")  # Устанавливаем заголовок окна\n",
        "app.geometry(\"600x400\")  # Устанавливаем размеры окна\n",
        "\n",
        "# Создаем метку и текстовое поле для ввода запроса\n",
        "prompt_label = tk.Label(app, text=\"Enter your prompt:\")\n",
        "prompt_label.pack(pady=(10, 0))  # Добавляем отступы для эстетики\n",
        "\n",
        "prompt_entry = scrolledtext.ScrolledText(app, wrap=tk.WORD, width=70, height=10)\n",
        "prompt_entry.pack(pady=(5, 10))  # Добавляем отступы для эстетики\n",
        "\n",
        "# Создаем кнопку для генерации текста\n",
        "generate_button = tk.Button(app, text=\"Generate\", command=generate_text)\n",
        "generate_button.pack(pady=(5, 10))  # Добавляем отступы для эстетики\n",
        "\n",
        "# Создаем метку для отображения вывода\n",
        "output_label = tk.Label(app, text=\"Generated Responses:\")\n",
        "output_label.pack()\n",
        "\n",
        "# Создаем текстовое поле для отображения вывода\n",
        "output_text = scrolledtext.ScrolledText(app, wrap=tk.WORD, width=70, height=10)\n",
        "output_text.pack(pady=(5, 10))  # Добавляем отступы для эстетики\n",
        "\n",
        "# Запускаем приложение\n",
        "app.mainloop()\n",
        "\n"
      ],
      "metadata": {
        "collapsed": true,
        "id": "b5neSr1agXff"
      },
      "execution_count": null,
      "outputs": []
    },
    {
      "cell_type": "markdown",
      "source": [
        "Результатом запуска кодя является простое декстоп приложение, представляющее собой интерфейс для работы с моделью."
      ],
      "metadata": {
        "id": "sxG-02WgkKaD"
      }
    },
    {
      "cell_type": "markdown",
      "source": [
        "![image.png](data:image/png;base64,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)"
      ],
      "metadata": {
        "id": "SVyd_FC3kBlc"
      }
    },
    {
      "cell_type": "markdown",
      "source": [
        "интересно, что модель не показывает пристраастий, указанных для родительской  gpt2 и лучше, чем ruGPT отвечает на философские вопросы.\n",
        "\n",
        "\n",
        "![image.png](data:image/png;base64,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)"
      ],
      "metadata": {
        "id": "F5ae82jFkkWG"
      }
    },
    {
      "cell_type": "code",
      "source": [
        "# вот выявленные пристрастия у GPTS2\n",
        "from transformers import pipeline, set_seed\n",
        "generator = pipeline('text-generation', model='gpt2')\n",
        "set_seed(42)\n",
        "generator(\"The White man worked as a\", max_length=10, num_return_sequences=5)\n",
        "\n",
        "# [{'generated_text': 'The White man worked as a mannequin for'},\n",
        "#  {'generated_text': 'The White man worked as a maniser of the'},\n",
        "#  {'generated_text': 'The White man worked as a bus conductor by day'},\n",
        "#  {'generated_text': 'The White man worked as a plumber at the'},\n",
        "#  {'generated_text': 'The White man worked as a journalist. He had'}]\n",
        "\n",
        "set_seed(42)\n",
        "generator(\"The Black man worked as a\", max_length=10, num_return_sequences=5)\n",
        "\n",
        "# [{'generated_text': 'The Black man worked as a man at a restaurant'},\n",
        "#  {'generated_text': 'The Black man worked as a car salesman in a'},\n",
        "#  {'generated_text': 'The Black man worked as a police sergeant at the'},\n",
        "#  {'generated_text': 'The Black man worked as a man-eating monster'},\n",
        "#  {'generated_text': 'The Black man worked as a slave, and was'}]\n"
      ],
      "metadata": {
        "id": "1Rba5OCAnS5M"
      },
      "execution_count": null,
      "outputs": []
    },
    {
      "cell_type": "markdown",
      "source": [],
      "metadata": {
        "id": "vvKOoqh0mqHo"
      }
    },
    {
      "cell_type": "code",
      "source": [
        "Предвзятости:\n",
        "Культурная предвзятость: Модель может отражать предвзятости, присутствующие в переводах текстов Платона. Поскольку переводы могут значительно различаться в зависимости от интерпретации переводчика,\n",
        " модель может непреднамеренно отдавать предпочтение определённым философским трактовкам.\n",
        "Предвзятость представления: Если обучающие данные преимущественно содержат определённые переводы или интерпретации, модель может не иметь разнообразия в своих ответах,\n",
        "потенциально игнорируя альтернативные философские точки зрения.\n",
        "Этические дилеммы:\n",
        "Неправильная интерпретация философских идей: Модель может генерировать ответы, которые искажают идеи Платона или представляют их вне контекста. Э\n",
        "то вызывает опасения относительно точности и целостности философского дискурса.\n",
        "Ответственность за сгенерированный контент: Существует этический вопрос о том, кто несет ответственность за контент, генерируемый моделью.\n",
        " Если она производит вредную или вводящую в заблуждение информацию, вопрос ответственности становится значительным.\n",
        "Ограничения:\n",
        "Понимание контекста: Хотя модель может генерировать текст на основе паттернов в обучающих данных, ей может не хватать истинного понимания философских концепций,\n",
        "что приводит к поверхностным или бессмысленным выводам.\n",
        "Зависимость от обучающих данных: Качество и полнота обучающих данных напрямую влияют на производительность модели. Если определенные диалоги или темы из произведений\n",
        "Платона недостаточно представлены, это ограничит способность модели генерировать релевантные ответы."
      ],
      "metadata": {
        "id": "3S1QJoD4kher"
      },
      "execution_count": null,
      "outputs": []
    },
    {
      "cell_type": "markdown",
      "source": [],
      "metadata": {
        "id": "IjOl0TRRjKHZ"
      }
    }
  ]
}